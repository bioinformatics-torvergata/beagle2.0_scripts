{
 "cells": [
  {
   "cell_type": "markdown",
   "id": "e30a5f5a-cc73-441b-9ca1-30a2a4cea73f",
   "metadata": {},
   "source": [
    "# Get all family names"
   ]
  },
  {
   "cell_type": "code",
   "execution_count": 9,
   "id": "6712c2f6-f130-4c3d-8194-c9575fa440a8",
   "metadata": {},
   "outputs": [],
   "source": [
    "families = []\n",
    "\n",
    "with open('Rfam.seed', encoding='ISO-8859-1') as file:\n",
    "    lines = file.readlines()\n",
    "    for line in lines:\n",
    "        if line.startswith(f\"#=GF AC\"):\n",
    "            families.append(line.strip().split(\"   \")[1])"
   ]
  },
  {
   "cell_type": "markdown",
   "id": "8933ddbd-de99-4957-aeb3-f44b4bb5488d",
   "metadata": {},
   "source": [
    "# Given the Rfam seed extract all sequences from a family and write a multifasta for each family"
   ]
  },
  {
   "cell_type": "code",
   "execution_count": null,
   "id": "b4677864-3ba5-4dfb-98bd-49d79d68d141",
   "metadata": {},
   "outputs": [],
   "source": [
    "for family in families:\n",
    "    sequences = []\n",
    "    \n",
    "    start_reading = False\n",
    "    \n",
    "+    with open('Rfam.seed', 'r',encoding='ISO-8859-1') as file:\n",
    "        for line in file:\n",
    "            if line.startswith(f\"#=GF AC   {family}\"):\n",
    "                start_reading = True\n",
    "                continue  \n",
    "    \n",
    "            if start_reading:\n",
    "                if line.startswith(\"//\"):\n",
    "                    break\n",
    "    \n",
    "                if not line.startswith(\"#\") and line.strip():\n",
    "                    parts = line.strip().split()\n",
    "                    if len(parts) >= 2:\n",
    "                        seq_id = parts[0]\n",
    "                        sequence = parts[1]\n",
    "                        sequences.append((seq_id, sequence)) \n",
    "    \n",
    "    fo=open(f\"family_fasta/{family}.fa\", \"w\")\n",
    "    \n",
    "    for seq_id, sequence in sequences:\n",
    "        fo.write(f\">{seq_id}\\n\")\n",
    "        fo.write(sequence.replace(\"-\", \"\")+\"\\n\")\n",
    "    \n",
    "    \n",
    "    fo.close()"
   ]
  },
  {
   "cell_type": "markdown",
   "id": "614a3e47-62b5-45ba-aebe-c877f93e5568",
   "metadata": {},
   "source": [
    "# run CD_HIT"
   ]
  },
  {
   "cell_type": "code",
   "execution_count": null,
   "id": "d6ca51b3-1aeb-447f-b551-2fcde54e003e",
   "metadata": {},
   "outputs": [],
   "source": [
    "import os\n",
    "for family in families:\n",
    "    os.system(f\"cd-hit-est -i family_fasta/{family}.fa -o out_cdhit/clustered_{family} > /dev/null\")"
   ]
  },
  {
   "cell_type": "markdown",
   "id": "e039da06-d768-4a9a-9f00-d73b6c639f3e",
   "metadata": {},
   "source": [
    "# get the names of the representatives"
   ]
  },
  {
   "cell_type": "code",
   "execution_count": null,
   "id": "cbc962eb-0788-4bd7-b876-87f5596ac989",
   "metadata": {},
   "outputs": [],
   "source": [
    "def extract_representative_ids(clstr_file):\n",
    "    \"\"\"\n",
    "    Extracts representative sequence IDs from a CD-HIT .clstr file.\n",
    "    \n",
    "    :param clstr_file: Path to the CD-HIT .clstr output file.\n",
    "    :return: List of representative sequence IDs.\n",
    "    \"\"\"\n",
    "    representative_ids = []\n",
    "\n",
    "    with open(clstr_file, 'r') as file:\n",
    "        for line in file:\n",
    "            if line.strip().endswith(\"*\"):\n",
    "                parts = line.strip().split(\">\")\n",
    "                if len(parts) > 1:\n",
    "                    seq_id = parts[1].split(\"...\")[0] \n",
    "                    representative_ids.append(seq_id)\n",
    "\n",
    "    return representative_ids\n",
    "\n",
    "def rfam_to_rnafold_constraints(rfam_structure):\n",
    "    \"\"\"\n",
    "    Convert Rfam consensus secondary structure notation to RNAfold constraint notation.\n",
    "\n",
    "    Parameters:\n",
    "    rfam_structure (str): The consensus secondary structure in Rfam format.\n",
    "\n",
    "    Returns:\n",
    "    str: The converted RNAfold constraint string.\n",
    "    \"\"\"\n",
    "    rnafold_constraints = []\n",
    "\n",
    "    # Mapping the Rfam symbols to RNAfold constraint symbols\n",
    "    symbol_mapping = {\n",
    "        '.': '.',   \n",
    "        ',': '.',   \n",
    "        '(': '(',    \n",
    "        ')': ')',   \n",
    "        '<': '|',   \n",
    "        '>': '|',    \n",
    "        '_': '.',    \n",
    "        '-': '.',    \n",
    "    }\n",
    "\n",
    "    for char in rfam_structure:\n",
    "        rnafold_constraints.append(symbol_mapping.get(char, '.'))\n",
    "\n",
    "    return ''.join(rnafold_constraints)\n",
    "\n",
    "def extract_conserved_positions(ss_cons_line, rf_line):\n",
    "    conserved_positions = []\n",
    "\n",
    "    for i, (rf, ss) in enumerate(zip(rf_line, ss_cons_line)):\n",
    "        if rf.isupper(): \n",
    "            conserved_positions.append((i, rf, ss))\n",
    "    return conserved_positions"
   ]
  },
  {
   "cell_type": "code",
   "execution_count": null,
   "id": "4eec1abc-28f3-42a5-8f6b-f3a70d154ab7",
   "metadata": {},
   "outputs": [],
   "source": [
    "import re\n",
    "\n",
    "for z,family in enumerate(families):\n",
    "    if z%100==0:\n",
    "        print(z, len(families))\n",
    "    clstr_file = f\"out_cdhit/clustered_{family}.clstr\"\n",
    "    representative_ids = extract_representative_ids(clstr_file)\n",
    "    for id in representative_ids:\n",
    "        ss_cons_line = \"\"\n",
    "        rf_line = \"\"\n",
    "        \n",
    "        start_reading = False\n",
    "        \n",
    "        with open('Rfam.seed', encoding='ISO-8859-1') as file:\n",
    "            for line in file:\n",
    "                if line.startswith(f\"#=GF AC   {family}\"):\n",
    "                    start_reading = True\n",
    "                    continue  \n",
    "                \n",
    "                if start_reading:\n",
    "                    if line.startswith(id) and line.strip():\n",
    "                        parts = line.strip().split()\n",
    "                        if len(parts) >= 2:\n",
    "                            seq_id = parts[0]\n",
    "                            sequence = parts[1]\n",
    "                    \n",
    "                    # Check for the ss_cons line and extract content after the tab\n",
    "                    if line.startswith(\"#=GC SS_cons\"):\n",
    "                        ss_cons_line = line.split()[2].strip()\n",
    "                    \n",
    "                    # Check for the RF line and extract content after the tab\n",
    "                    elif line.startswith(\"#=GC RF\"):\n",
    "                        rf_line = line.split()[2].strip()\n",
    "                        \n",
    "                        # Stop reading further as both lines are found\n",
    "                        break\n",
    "        file.close()\n",
    "        \n",
    "        rnafold_constraints = rfam_to_rnafold_constraints(ss_cons_line)\n",
    "        \n",
    "        conserved_positions = extract_conserved_positions(rnafold_constraints, rf_line)\n",
    "        \n",
    "        constraint_string = \".\" * len(sequence)\n",
    "        for pos, _, element in conserved_positions:\n",
    "                constraint_string = constraint_string[:pos] + element + constraint_string[pos + 1:]\n",
    "        \n",
    "        ungapped_seq=\"\"\n",
    "        ungapped_constraint_string=\"\"\n",
    "        \n",
    "        for i, nucleotide in enumerate(sequence):\n",
    "            if nucleotide!=\"-\":\n",
    "                ungapped_seq += nucleotide\n",
    "                ungapped_constraint_string += constraint_string[i]\n",
    "        \n",
    "        header=seq_id.split(\"/\")[0]\n",
    "        \n",
    "        with open(f\"constraint_input/{header}.fa\", \"w\") as f:\n",
    "                f.write(f\">{seq_id}\\n{ungapped_seq}\\n{ungapped_constraint_string}\\n\")"
   ]
  },
  {
   "cell_type": "code",
   "execution_count": null,
   "id": "dd789f0d-89d1-4c74-8f12-098bc96521a1",
   "metadata": {},
   "outputs": [],
   "source": [
    "#!cat *.fa > merged_sequences.fa"
   ]
  },
  {
   "cell_type": "markdown",
   "id": "eb3b7b30-c05b-4c22-9138-d9b988ee5787",
   "metadata": {},
   "source": [
    "# run RNAfold "
   ]
  },
  {
   "cell_type": "code",
   "execution_count": 2,
   "id": "885ea0c5-7ed4-4efc-a056-98cf2e7604db",
   "metadata": {},
   "outputs": [],
   "source": [
    "import re\n",
    "import os\n",
    "\n",
    "def clean_rnafold_output(input_file, output_file):\n",
    "    \"\"\"\n",
    "    Remove energy values from RNAfold output.\n",
    "    \n",
    "    :param input_file: Path to the RNAfold output file.\n",
    "    :param output_file: Path to the cleaned output file.\n",
    "    \"\"\"\n",
    "    with open(input_file, \"r\") as infile, open(output_file, \"w\") as outfile:\n",
    "        for line in infile:\n",
    "            if re.search(r\"\\s\\(-\\d+\\.\\d+\\)$\", line):\n",
    "                line = re.sub(r\"\\s\\(-\\d+\\.\\d+\\)$\", \"\", line)\n",
    "            outfile.write(line)"
   ]
  },
  {
   "cell_type": "code",
   "execution_count": 3,
   "id": "bb50277e-b225-41f7-909c-4ebc13eebfa2",
   "metadata": {},
   "outputs": [],
   "source": [
    "files = os.listdir(\"constraint_input/\")"
   ]
  },
  {
   "cell_type": "code",
   "execution_count": 4,
   "id": "def18508-0016-4509-9a15-b8eef2680f13",
   "metadata": {},
   "outputs": [],
   "source": [
    "for file in files:\n",
    "    os.system(f\"RNAfold --noPS -C < constraint_input/{file} > RNAfold_output/{file[:-3]}_folded.fa 2>/dev/null\")"
   ]
  },
  {
   "cell_type": "code",
   "execution_count": 39,
   "id": "d1e33af1-85b1-43c4-96d1-8fbd041643e0",
   "metadata": {},
   "outputs": [],
   "source": [
    "fo=open(\"RNAfold_output_no_energy/merged_sequences_folded_no_energy.fa\", \"w\")\n",
    "\n",
    "with open(\"RNAfold_output/merged_sequences_folded.fa\") as file:\n",
    "    lines=file.readlines()\n",
    "    for i,line in enumerate(lines):\n",
    "        if line.startswith(\">\"):\n",
    "            fo.write(line)\n",
    "            fo.write(lines[i+1])\n",
    "            fo.write(lines[i+2].split()[0]+ \"\\n\")\n",
    "\n",
    "fo.close()"
   ]
  },
  {
   "cell_type": "markdown",
   "id": "d5a47365-3aeb-402a-9f72-b4a2da011d5a",
   "metadata": {},
   "source": [
    "# Removing families with less than 5 members"
   ]
  },
  {
   "cell_type": "code",
   "execution_count": 41,
   "id": "f4d7868a-d208-4007-8f61-81aa86b3046f",
   "metadata": {},
   "outputs": [],
   "source": [
    "from collections import defaultdict"
   ]
  },
  {
   "cell_type": "code",
   "execution_count": 35,
   "id": "7d7f48fa-bcaf-4c8e-b0ea-63e4bbbbc33a",
   "metadata": {},
   "outputs": [],
   "source": [
    "dict_family_ids = defaultdict(list)\n",
    "\n",
    "for family in families:    \n",
    "    start_reading = False\n",
    "    with open('Rfam.seed', 'r',encoding='ISO-8859-1') as file:\n",
    "        for line in file:\n",
    "            # Check for the starting line indicating the target family\n",
    "            if line.startswith(f\"#=GF AC   {family}\"):\n",
    "                start_reading = True\n",
    "                continue \n",
    "    \n",
    "            if start_reading:\n",
    "                if line.startswith(\"//\"):\n",
    "                    break\n",
    "    \n",
    "                if not line.startswith(\"#\") and line.strip():\n",
    "                    parts = line.strip().split()\n",
    "                    if len(parts) >= 2:\n",
    "                        seq_id = parts[0]\n",
    "                        dict_family_ids[family].append(seq_id)  "
   ]
  },
  {
   "cell_type": "code",
   "execution_count": 42,
   "id": "52fe4d81-4955-4b9d-bd09-54d7b1a492fc",
   "metadata": {},
   "outputs": [],
   "source": [
    "remaining_values = [value for values in dict_family_ids.values() if len(values) >= 5 for value in values]"
   ]
  },
  {
   "cell_type": "code",
   "execution_count": 43,
   "id": "30118a7b-1050-4246-b8ca-3e3ca170876d",
   "metadata": {},
   "outputs": [],
   "source": [
    "fo=open(\"output_RNAfold_5_members/rfam_new.fa\", \"w\")\n",
    "\n",
    "with open(\"RNAfold_output_no_energy/merged_sequences_folded_no_energy.fa\") as f:\n",
    "    lines=f.readlines()\n",
    "    for i,line in enumerate(lines):\n",
    "        if line.startswith(\">\"):\n",
    "            id = line[1:].strip()\n",
    "            if id in remaining_values:\n",
    "                fo.write(line)\n",
    "                fo.write(lines[i+1])\n",
    "                fo.write(lines[i+2])\n",
    "fo.close()"
   ]
  }
 ],
 "metadata": {
  "kernelspec": {
   "display_name": "Python 3 (ipykernel)",
   "language": "python",
   "name": "python3"
  },
  "language_info": {
   "codemirror_mode": {
    "name": "ipython",
    "version": 3
   },
   "file_extension": ".py",
   "mimetype": "text/x-python",
   "name": "python",
   "nbconvert_exporter": "python",
   "pygments_lexer": "ipython3",
   "version": "3.11.5"
  }
 },
 "nbformat": 4,
 "nbformat_minor": 5
}
